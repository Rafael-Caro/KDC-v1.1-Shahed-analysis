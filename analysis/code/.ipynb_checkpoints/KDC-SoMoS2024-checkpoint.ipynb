{
 "cells": [
  {
   "cell_type": "markdown",
   "id": "0f851204",
   "metadata": {},
   "source": [
    "# *Šāhed* analysis on the KUG *Dastgāhi* Corpus (KDC)"
   ]
  },
  {
   "cell_type": "markdown",
   "id": "fae50d73",
   "metadata": {},
   "source": [
    "This is the code used for the analyses of *šāhed* performed on the **KUG _Dastgāhi_ Corpus** (**KDC**) **v1.1**, presented in the following paper:\n",
    "\n",
    "- Nikzat, Babak, and Rafael Caro Repetto. 2024. \"Contributions to understanding of Iranian *dastgāhi* music: corpus\n",
    "development, *šāhed* analysis, melody visualization.\" _Third Symposium of the ICTMD Study Group on\n",
    "Sound, Movement, and the Sciences (SoMoS)_, University of Oslo, Oslo, Norwey, September 18-20, 2024."
   ]
  },
  {
   "cell_type": "markdown",
   "id": "08ccaf8b",
   "metadata": {},
   "source": [
    "# SoMoS 2024"
   ]
  },
  {
   "cell_type": "markdown",
   "id": "0c0ff29e-14ba-456d-b404-f4d4e616e5d1",
   "metadata": {},
   "source": [
    "## General"
   ]
  },
  {
   "cell_type": "code",
   "execution_count": null,
   "id": "9fc77142-d99f-4435-a523-1655b517b80b",
   "metadata": {},
   "outputs": [],
   "source": [
    "import os\n",
    "import numpy as np\n",
    "import intonation"
   ]
  },
  {
   "cell_type": "code",
   "execution_count": null,
   "id": "8b8fb86f-d004-4c6f-ba6d-e1049b7e4ecc",
   "metadata": {},
   "outputs": [],
   "source": [
    "kdcFolder = '../../KDC-v1.1'\n",
    "metadataFile = 'KDC-v1.1-Metadata.csv'\n",
    "recordingsFolder = 'recordings'\n",
    "pitchtracksFolder = '../pitchtracks'\n",
    "histogramsFolder = '../histograms'"
   ]
  },
  {
   "cell_type": "code",
   "execution_count": null,
   "id": "e452abc2-9c58-44f6-86f7-21e0e26ace2c",
   "metadata": {},
   "outputs": [],
   "source": [
    "# Loading metadata\n",
    "\n",
    "with open(os.path.join(kdcFolder, metadataFile), 'r') as f:\n",
    "    metadata = f.readlines()"
   ]
  },
  {
   "cell_type": "code",
   "execution_count": null,
   "id": "dec91f47-11d8-499c-a99d-664d6d6d23a8",
   "metadata": {},
   "outputs": [],
   "source": [
    "# Store the metadata as a dictionaries\n",
    "\n",
    "recordingsDic = {}\n",
    "\n",
    "for i in range(1, len(metadata)):\n",
    "    info = metadata[i].rstrip().split(',')\n",
    "    if info[5] == 'performance':\n",
    "        fn = info[0]\n",
    "        dastgah = info[1]\n",
    "        gushe = info[2]\n",
    "        artist = info[3]\n",
    "        initials = ''\n",
    "        for word in artist.split(' '):\n",
    "            initials += word[0]\n",
    "        inst = info[4]\n",
    "        shahed = float(info[7])\n",
    "\n",
    "        recordingsDic[fn] = {'dastgah': dastgah, 'gushe': gushe, 'artist': artist,\n",
    "                             'initials': initials, 'inst': inst, 'shahed': shahed}\n",
    "        \n",
    "recordingsDic"
   ]
  },
  {
   "cell_type": "code",
   "execution_count": null,
   "id": "289516dd-cfd1-4602-80c0-2a4c30cec101",
   "metadata": {},
   "outputs": [],
   "source": [
    "# Dictionary with the pitch range in cents for plotting pitch histograms\n",
    "# for each dastgāhi\n",
    "\n",
    "pitchRanges = {'Abuata': (-800, 400),\n",
    "               'Afshari': (-750, 500),\n",
    "               'Bayat-e Tork': (-600, 1800),\n",
    "               'Chahargah': (-2500, 800),\n",
    "               'Dashti': (-750, 600),\n",
    "               'Esfahan': (-750, 750),\n",
    "               'Homayun': (-800, 2600),\n",
    "               'Mahur': (-600, 1100),\n",
    "               'Nava': (-2100, 600),\n",
    "               'Rast-Panjgah': (-2600, 800),\n",
    "               'Segah': (-500, 2700),\n",
    "               'Shur': (-1000, 2700)}"
   ]
  },
  {
   "cell_type": "code",
   "execution_count": null,
   "id": "46485e57-5c8c-4ea3-a5f2-5a454e4126cd",
   "metadata": {},
   "outputs": [],
   "source": [
    "def pitch2cents(pitch, ref):\n",
    "    '''\n",
    "    Converts a pitch track in Hz to cents given a reference pitch\n",
    "    \n",
    "    Args:\n",
    "        pitch (np.array): a numpy array with two columns, first for time,\n",
    "                          second for pitch\n",
    "        ref (float): the reference pitch\n",
    "    \n",
    "    Returns:\n",
    "        cents (np.array) a numpy array with one column of pitch in cents\n",
    "    '''\n",
    "\n",
    "    return 1200 * np.log2(pitch[:,1] / float(ref))"
   ]
  },
  {
   "cell_type": "markdown",
   "id": "ef556f16-d411-4d1f-ba65-aee560aea81c",
   "metadata": {},
   "source": [
    "## Computing pitch tracks with `crepe`"
   ]
  },
  {
   "cell_type": "code",
   "execution_count": null,
   "id": "65947490-f063-462b-ba29-7d2b0966e807",
   "metadata": {},
   "outputs": [],
   "source": [
    "import crepe\n",
    "from scipy.io import wavfile"
   ]
  },
  {
   "cell_type": "code",
   "execution_count": null,
   "id": "3fd3a983-aa24-4131-9d0f-a97f495c561f",
   "metadata": {},
   "outputs": [],
   "source": [
    "allFiles = os.listdir(os.path.join(kdcFolder, recordingsFolder, 'wav'))\n",
    "\n",
    "wavFiles = []\n",
    "\n",
    "for f in allFiles:\n",
    "    if f[-3:] == 'wav':\n",
    "        wavFiles.append(f)\n",
    "        \n",
    "print(len(wavFiles), 'performance recordings (in wav format)')"
   ]
  },
  {
   "cell_type": "code",
   "execution_count": null,
   "id": "7078a010-6bf2-4b88-b4c3-4eaccb748d6e",
   "metadata": {},
   "outputs": [],
   "source": [
    "for pr in wavFiles:\n",
    "    print('Processing', pr)\n",
    "    sr, audio = wavfile.read(os.path.join(kdcFolder, recordingsFolder, 'wav', pr))\n",
    "    time, frequency, confidence, activation = crepe.predict(audio, sr, viterbi=True)\n",
    "    pitchtrack = np.vstack([time, frequency, confidence]).transpose()\n",
    "    np.savetxt(pr[:-4] + '.f0.csv', pitchtrack, fmt=['%.3f', '%.3f', '%.6f'], delimiter=',',\n",
    "               header='time,frequency,confidence', comments='')\n",
    "    print(pr[:-4] + '.f0.csv saved')\n",
    "\n",
    "print('Done!')"
   ]
  },
  {
   "cell_type": "markdown",
   "id": "e8391d00-e576-4676-9ffa-a367652f1d68",
   "metadata": {},
   "source": [
    "### Filtering `crepe` pitch tracks"
   ]
  },
  {
   "cell_type": "code",
   "execution_count": null,
   "id": "0f2d3d95-9b1f-4531-a44e-805768f5de1c",
   "metadata": {},
   "outputs": [],
   "source": [
    "threshold = 0.7"
   ]
  },
  {
   "cell_type": "code",
   "execution_count": null,
   "id": "e342cddb-4cd9-4386-bed9-da2cdb5f5944",
   "metadata": {},
   "outputs": [],
   "source": [
    "allFiles = os.listdir(os.path.join(pitchtracksFolder, 'original-files'))\n",
    "\n",
    "pitchtracks = []\n",
    "\n",
    "for f in allFiles:\n",
    "    if f[-3:] == 'csv':\n",
    "        pitchtracks.append(f)\n",
    "        \n",
    "print(len(pitchtracks), 'pitchtrack files')"
   ]
  },
  {
   "cell_type": "code",
   "execution_count": null,
   "id": "9a2df82b-bdad-46ff-aae8-1775f833ef86",
   "metadata": {},
   "outputs": [],
   "source": [
    "for pt in pitchtracks:\n",
    "    print('Processing', pt)\n",
    "    pitchtrack = np.genfromtxt(os.path.join(pitchtracksFolder, 'original-files', pt), delimiter=',', skip_header=1)\n",
    "    filtered = pitchtrack[pitchtrack[:,2] >= threshold]\n",
    "    np.savetxt(os.path.join(pitchtracksFolder, pt[:-4] + '_fil.csv'), filtered[:,0:2], delimiter=',')\n",
    "\n",
    "print('Done!')"
   ]
  },
  {
   "cell_type": "markdown",
   "id": "aeda730b-6120-4785-a137-253aca33ada0",
   "metadata": {},
   "source": [
    "## Computing pitch histograms"
   ]
  },
  {
   "cell_type": "code",
   "execution_count": null,
   "id": "4d3fdef1-1299-48c2-9a05-a1b5f2b71bba",
   "metadata": {},
   "outputs": [],
   "source": [
    "# List of available pitchtracks\n",
    "\n",
    "allFiles = os.listdir(os.path.join(pitchtracksFolder))\n",
    "\n",
    "pitchtracks = []\n",
    "\n",
    "for pt in allFiles:\n",
    "    if pt[-3:] == 'csv':\n",
    "        pitchtracks.append(pt)\n",
    "        \n",
    "print(len(pitchtracks), 'pitchtracks')"
   ]
  },
  {
   "cell_type": "markdown",
   "id": "6e96b9d6-fcaf-4563-bcdc-29fbf34ca215",
   "metadata": {},
   "source": [
    "### Computing pitch histograms for individual recordings"
   ]
  },
  {
   "cell_type": "code",
   "execution_count": null,
   "id": "b85e8944-758e-49c5-8bd5-dffce9eb6cfb",
   "metadata": {},
   "outputs": [],
   "source": [
    "histogramsIndividualFolder = 'histograms-individual'"
   ]
  },
  {
   "cell_type": "code",
   "execution_count": null,
   "id": "9c021c86-ac0a-420d-be38-267e7f8f25da",
   "metadata": {},
   "outputs": [],
   "source": [
    "for pt in pitchtracks:\n",
    "    mbid = pt[:pt.index('.f0_')]\n",
    "    info = recordingsDic[mbid]\n",
    "    dastgah = info['dastgah']\n",
    "    gushe = info['gushe']\n",
    "    artist = info['initials']\n",
    "    inst = info['inst']\n",
    "    shahed = info['shahed']\n",
    "    lowCut = pitchRanges[dastgah][0]\n",
    "    highCut = pitchRanges[dastgah][1]\n",
    "    plotName = '{}-{}-{}-{}-PH.png'.format(mbid, dastgah[:3], artist, inst[0])\n",
    "    \n",
    "    print('Processing', pt[:pt.index('.f0_')])\n",
    "    this_title = '{} {} ({}, {})'.format(gushe, dastgah, inst, artist)\n",
    "    pitchTrack = np.genfromtxt(os.path.join(pitchtracksFolder, pt), delimiter=',')\n",
    "    centsTrack = pitch2cents(pitchTrack, shahed)\n",
    "    filteredTrack = centsTrack[np.logical_and(centsTrack >= lowCut, centsTrack <= highCut)]\n",
    "    print(shahed)\n",
    "    pitch_obj = intonation.Pitch(np.arange(len(filteredTrack)), filteredTrack)\n",
    "    rec_obj = intonation.Recording(pitch_obj)\n",
    "    rec_obj.compute_hist()\n",
    "    rec_obj.histogram.plot(shahed=0, title=this_title,\n",
    "                           saveToFileName=os.path.join(histogramsFolder, histogramsIndividualFolder, plotName))\n",
    "print('Done!')"
   ]
  },
  {
   "cell_type": "markdown",
   "id": "413da0c5-d85f-480f-9365-54bc7c4212eb",
   "metadata": {},
   "source": [
    "#### Computing folded pitch histograms for individual recordings"
   ]
  },
  {
   "cell_type": "code",
   "execution_count": null,
   "id": "a479af97-53d3-4f65-945b-9aaf6f7f2817",
   "metadata": {},
   "outputs": [],
   "source": [
    "histogramsIndividualFoldedFolder = 'histograms-individual-folded'"
   ]
  },
  {
   "cell_type": "code",
   "execution_count": null,
   "id": "d3714db9-31ba-41cd-801d-ec8ef9078713",
   "metadata": {},
   "outputs": [],
   "source": [
    "for pt in pitchtracks:\n",
    "    mbid = pt[:pt.index('.f0_')]\n",
    "    info = recordingsDic[mbid]\n",
    "    dastgah = info['dastgah']\n",
    "    gushe = info['gushe']\n",
    "    artist = info['initials']\n",
    "    inst = info['inst']\n",
    "    shahed = info['shahed']\n",
    "    lowCut = pitchRanges[dastgah][0]\n",
    "    highCut = pitchRanges[dastgah][1]\n",
    "    plotName = '{}-{}-{}-{}-PHF.png'.format(mbid, dastgah[:3], artist, inst[0])\n",
    "    \n",
    "    print('Processing', pt[:pt.index('.f0_')])\n",
    "    this_title = '{} {} ({}, {}) - Folded'.format(gushe, dastgah, inst, artist)\n",
    "    pitchTrack = np.genfromtxt(os.path.join(pitchtracksFolder, pt), delimiter=',')\n",
    "    centsTrack = pitch2cents(pitchTrack, shahed)\n",
    "    filteredTrack = centsTrack[np.logical_and(centsTrack >= lowCut, centsTrack <= highCut)]\n",
    "    pitch_obj = intonation.Pitch(np.arange(len(filteredTrack)), filteredTrack)\n",
    "    rec_obj = intonation.Recording(pitch_obj)\n",
    "    rec_obj.compute_hist(bins=highCut-lowCut, folded=True)\n",
    "    rec_obj.histogram.plot(title=this_title,\n",
    "                           saveToFileName=os.path.join(histogramsFolder, histogramsIndividualFoldedFolder, plotName))\n",
    "print('Done!')"
   ]
  },
  {
   "cell_type": "markdown",
   "id": "72923c20-1560-4950-90d8-05b410503b18",
   "metadata": {},
   "source": [
    "#### Computing aggregated pitch histograms per *dastgāh*"
   ]
  },
  {
   "cell_type": "code",
   "execution_count": 1,
   "id": "9b537e18-75fb-415b-9730-d58d1f1b0a89",
   "metadata": {},
   "outputs": [],
   "source": [
    "# Pitch tracks to be excluded from the computation of aggregated pitch histograms\n",
    "mbid2exclude = ['caa5272e-bcca-4f94-9aa4-0006c7df7c89', '0c713238-4a4c-4ca2-b10d-f9a302b631ac', '4f27b45f-dfa0-4891-a3d0-bd295468f19b',\n",
    "                '98d969a9-d368-41f2-afd9-75bf1a2713d0', '18e16a02-1e5b-440f-8eb4-af03c4506b5c', '21892371-4523-4387-b864-a15a981eff14']"
   ]
  },
  {
   "cell_type": "code",
   "execution_count": null,
   "id": "910b6146-9d1f-4874-a3f4-8485994d93b4",
   "metadata": {},
   "outputs": [],
   "source": [
    "# Create aggregated pitchtracks per dastgāh\n",
    "\n",
    "aggregatedPitchTracks = {}\n",
    "\n",
    "for pt in pitchtracks:\n",
    "    mbid = pt[:pt.index('.f0_')]\n",
    "    if mbid in mbid2exclude:\n",
    "        print('    Excluding', mbid)\n",
    "    else:\n",
    "        print('Processing', mbid)\n",
    "        info = recordingsDic[mbid]\n",
    "        dastgah = info['dastgah']\n",
    "        shahed = info['shahed']\n",
    "        lowCut = pitchRanges[dastgah][0]\n",
    "        highCut = pitchRanges[dastgah][1] \n",
    "        \n",
    "        pitchTrack = np.genfromtxt(os.path.join(pitchtracksFolder, pt), delimiter=',')\n",
    "        centsTrack = pitch2cents(pitchTrack, shahed)\n",
    "        if dastgah not in aggregatedPitchTracks:\n",
    "            aggregatedPitchTracks[dastgah] = {'lowCut': pitchRanges[dastgah][0],\n",
    "                                          'highCut': pitchRanges[dastgah][1], 'apt': centsTrack}\n",
    "        else:\n",
    "            aggregatedPitchTracks[dastgah]['apt'] = np.append(aggregatedPitchTracks[dastgah]['apt'],\n",
    "                                                          centsTrack)\n",
    "\n",
    "print('Done!')"
   ]
  },
  {
   "cell_type": "code",
   "execution_count": null,
   "id": "09f55586-5d09-413e-971e-45b198e1f1a3",
   "metadata": {},
   "outputs": [],
   "source": [
    "histogramsDastgahFolder = 'histograms-dastgah'"
   ]
  },
  {
   "cell_type": "code",
   "execution_count": null,
   "id": "d65e2401-7734-4c79-8ab2-2606f1a37927",
   "metadata": {},
   "outputs": [],
   "source": [
    "# Compute and plot pitch histograms per dastgāh\n",
    "\n",
    "for dastgah in aggregatedPitchTracks:\n",
    "    print('Processing', dastgah)\n",
    "    plotName = dastgah + '-PH.png'\n",
    "    apt = aggregatedPitchTracks[dastgah]['apt']\n",
    "    lowCut = aggregatedPitchTracks[dastgah]['lowCut']\n",
    "    highCut = aggregatedPitchTracks[dastgah]['highCut']\n",
    "    filteredTrack = apt[np.logical_and(apt >= lowCut, apt <= highCut)]\n",
    "    pitch_obj = intonation.Pitch(np.arange(len(filteredTrack)), filteredTrack)\n",
    "    rec_obj = intonation.Recording(pitch_obj)\n",
    "    rec_obj.compute_hist()\n",
    "    rec_obj.histogram.plot(title=dastgah, shahed=0,\n",
    "                           saveToFileName=os.path.join(histogramsFolder, histogramsDastgahFolder, plotName))\n",
    "\n",
    "print('Done!')"
   ]
  },
  {
   "cell_type": "markdown",
   "id": "928d5a20-ce0b-40da-8caa-7cb5554c1243",
   "metadata": {},
   "source": [
    "#### Computing aggregated folded pitch histograms per *dastgāh*"
   ]
  },
  {
   "cell_type": "code",
   "execution_count": null,
   "id": "82e60dfd-50c3-48cd-9112-71042cb739c1",
   "metadata": {},
   "outputs": [],
   "source": [
    "histogramsDastgahFoldedFolder = 'histograms-dastgah-folded'"
   ]
  },
  {
   "cell_type": "code",
   "execution_count": null,
   "id": "f3c5d73b-d584-4fdb-ac82-6920206bd74f",
   "metadata": {},
   "outputs": [],
   "source": [
    "# Compute and plot folded pitch histograms per dastgāh\n",
    "\n",
    "for dastgah in aggregatedPitchTracks:\n",
    "    print('Processing', dastgah)\n",
    "    plotName = dastgah + '_PHF.png'\n",
    "    apt = aggregatedPitchTracks[dastgah]['apt']\n",
    "    lowCut = aggregatedPitchTracks[dastgah]['lowCut']\n",
    "    highCut = aggregatedPitchTracks[dastgah]['highCut']\n",
    "    filteredTrack = apt[np.logical_and(apt >= lowCut, apt <= highCut)]\n",
    "    pitch_obj = intonation.Pitch(np.arange(len(filteredTrack)), filteredTrack)\n",
    "    rec_obj = intonation.Recording(pitch_obj)\n",
    "    rec_obj.compute_hist(folded=True)\n",
    "    rec_obj.histogram.plot(title=dastgah + ' - Folded',\n",
    "                           saveToFileName=os.path.join(histogramsFolder, histogramsDastgahFoldedFolder, plotName))\n",
    "\n",
    "print('Done!')"
   ]
  },
  {
   "cell_type": "code",
   "execution_count": null,
   "id": "5b025b37-1e09-409c-bc79-49c5086d167c",
   "metadata": {},
   "outputs": [],
   "source": []
  }
 ],
 "metadata": {
  "kernelspec": {
   "display_name": "Python 3 (ipykernel)",
   "language": "python",
   "name": "python3"
  },
  "language_info": {
   "codemirror_mode": {
    "name": "ipython",
    "version": 3
   },
   "file_extension": ".py",
   "mimetype": "text/x-python",
   "name": "python",
   "nbconvert_exporter": "python",
   "pygments_lexer": "ipython3",
   "version": "3.12.1"
  }
 },
 "nbformat": 4,
 "nbformat_minor": 5
}
