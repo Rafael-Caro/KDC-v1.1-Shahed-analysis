{
 "cells": [
  {
   "cell_type": "markdown",
   "id": "0f851204",
   "metadata": {},
   "source": [
    "# Preliminary analysis on the KUG *Dastgāhi* Corpus (KDC)"
   ]
  },
  {
   "cell_type": "markdown",
   "id": "fae50d73",
   "metadata": {},
   "source": [
    "This is the code used for the analyses on the **KUG _Dastgāhi_ Corpus** (**KDC**) presented in the following paper (available in [Zenodo](https://doi.org/10.5281/zenodo.7316660)):\n",
    "\n",
    "- Nikzat, Babak, and Rafael Caro Repetto. 2022. \"KDC: an open corpus for computational research of *dastgāhi* music.\" In _Proceedings of the 23rd International Society for Music Information Retrieval Conference, Bengaluru, India, Dec 4-8, 2022_, edited by Preeti Rao, Hema Murthy, Ajay Srinivasamurthy, Rachel Bittner, Rafael Caro Repetto, Masataka Goto, Xavier Serra, and Marius Miron, 321-328. Bengaluru: International Society for Music Information Retrieval.\n",
    "\n",
    "These analyses were performed on the KDC v1.0, which is available together with this notebook in [GitHub](https://github.com/Rafael-Caro/KDC-v1.0) or in [Phaidra](https://phaidra.kug.ac.at/view/o:127202)."
   ]
  },
  {
   "cell_type": "markdown",
   "id": "6d793e9e",
   "metadata": {},
   "source": [
    "## General"
   ]
  },
  {
   "cell_type": "markdown",
   "id": "95d01538",
   "metadata": {},
   "source": [
    "**The following cells should be always run first for any analysis!**"
   ]
  },
  {
   "cell_type": "markdown",
   "id": "46b13339",
   "metadata": {},
   "source": [
    "This part of the code loads the Python modules required for the general tasks, as well as the metadata from the the `KDC-v1.0-Metadata.csv` file included in KDC v1.0. Paths to different folders and helper funtions are also defined here. By default it assumes the folder the structre given in the [GitHub](https://github.com/Rafael-Caro/KDC-v1.0) repository."
   ]
  },
  {
   "cell_type": "code",
   "execution_count": null,
   "id": "4d62e10b",
   "metadata": {},
   "outputs": [],
   "source": [
    "import os\n",
    "import numpy as np\n",
    "import intonation\n",
    "import pylab as p"
   ]
  },
  {
   "cell_type": "markdown",
   "id": "ff482841",
   "metadata": {},
   "source": [
    "These variables define the paths for different folders of KDC or for storing the output of this code. It assumes the structure in the zip file submitted with the paper."
   ]
  },
  {
   "cell_type": "code",
   "execution_count": null,
   "id": "b8ff2893",
   "metadata": {},
   "outputs": [],
   "source": [
    "kdcFolder = '../../KDC-v1.0'\n",
    "metadataFile = 'KDC-v1.0-Metadata.csv'\n",
    "recordingsFolder = 'recordings'\n",
    "pitchtracksFolder = '../pitchtracks'\n",
    "histogramsFolder = '../histograms'"
   ]
  },
  {
   "cell_type": "code",
   "execution_count": null,
   "id": "4985f1d6",
   "metadata": {},
   "outputs": [],
   "source": [
    "# Loading metadata\n",
    "\n",
    "with open(os.path.join(kdcFolder, metadataFile), 'r') as f:\n",
    "    metadata = f.readlines()"
   ]
  },
  {
   "cell_type": "code",
   "execution_count": null,
   "id": "dc560fca",
   "metadata": {},
   "outputs": [],
   "source": [
    "# Store the metadata as a dictionaries\n",
    "\n",
    "recordingsDic = {}\n",
    "\n",
    "for i in range(1, len(metadata)):\n",
    "    info = metadata[i].rstrip().split(',')\n",
    "    if info[5] == 'performance':\n",
    "        fn = info[0]\n",
    "        dastgah = info[1]\n",
    "        gushe = info[2]\n",
    "        artist = info[3]\n",
    "        initials = ''\n",
    "        for word in artist.split(' '):\n",
    "            initials += word[0]\n",
    "        inst = info[4]\n",
    "        shahed = float(info[7])\n",
    "\n",
    "        recordingsDic[fn] = {'dastgah': dastgah, 'gushe': gushe, 'artist': artist,\n",
    "                             'initials': initials, 'inst': inst, 'shahed': shahed}\n",
    "        \n",
    "recordingsDic"
   ]
  },
  {
   "cell_type": "markdown",
   "id": "c942dd62",
   "metadata": {},
   "source": [
    "The following dictionary establishes upper and lower limits in the frequency range as cents from the *šāhed*, used for plotting purposes."
   ]
  },
  {
   "cell_type": "code",
   "execution_count": null,
   "id": "77b6fbf3",
   "metadata": {},
   "outputs": [],
   "source": [
    "# Dictionary with the pitch range in cents for plotting pitch histograms\n",
    "# for each dastgāhi\n",
    "\n",
    "pitchRanges = {'Abuata': (-800, 400),\n",
    "               'Afshari': (-750, 500),\n",
    "               'Bayat-e Tork': (-600, 1800),\n",
    "               'Chahargah': (-2500, 800),\n",
    "               'Dashti': (-750, 600),\n",
    "               'Esfahan': (-750, 750),\n",
    "               'Homayun': (-800, 2600),\n",
    "               'Mahur': (-600, 1100),\n",
    "               'Nava': (-2100, 600),\n",
    "               'Rast-Panjgah': (-2600, 800),\n",
    "               'Segah': (-500, 2700),\n",
    "               'Shur': (-1000, 2700)}"
   ]
  },
  {
   "cell_type": "markdown",
   "id": "a7aa5dba",
   "metadata": {},
   "source": [
    "Helper functions:"
   ]
  },
  {
   "cell_type": "code",
   "execution_count": null,
   "id": "c0fd6aa8",
   "metadata": {},
   "outputs": [],
   "source": [
    "def pitch2cents(pitch, ref):\n",
    "    '''\n",
    "    Converts a pitch track in Hz to cents given a reference pitch\n",
    "    \n",
    "    Args:\n",
    "        pitch (np.array): a numpy array with two columns, first for time,\n",
    "                          second for pitch\n",
    "        ref (float): the reference pitch\n",
    "    \n",
    "    Returns:\n",
    "        cents (np.array) a numpy array with one column of pitch in cents\n",
    "    '''\n",
    "\n",
    "    return 1200 * np.log2(pitch[:,1] / float(ref))"
   ]
  },
  {
   "cell_type": "code",
   "execution_count": null,
   "id": "e3fbb2e9",
   "metadata": {},
   "outputs": [],
   "source": [
    "def cents2hz(cents, ref):\n",
    "    '''\n",
    "    Converts a value in cents to Hz given a reference pitch\n",
    "    \n",
    "    Args:\n",
    "        cents (float): a value in cents\n",
    "        ref (float): a reference pitch in Hz\n",
    "        \n",
    "    Returns:\n",
    "        Hz (float): a pitch value in Hz\n",
    "    '''\n",
    "    \n",
    "    return 2 ** (cents / 1200) * ref"
   ]
  },
  {
   "cell_type": "markdown",
   "id": "a6484834",
   "metadata": {},
   "source": [
    "## Computing pitch tracks with `crepe`"
   ]
  },
  {
   "cell_type": "code",
   "execution_count": null,
   "id": "15fdfdb3",
   "metadata": {},
   "outputs": [],
   "source": [
    "import crepe\n",
    "from scipy.io import wavfile"
   ]
  },
  {
   "cell_type": "code",
   "execution_count": null,
   "id": "1c836025",
   "metadata": {},
   "outputs": [],
   "source": [
    "allFiles = os.listdir(os.path.join(kdcFolder, recordingsFolder, 'wav'))\n",
    "\n",
    "wavFiles = []\n",
    "\n",
    "for f in allFiles:\n",
    "    if f[-3:] == 'wav':\n",
    "        wavFiles.append(f)\n",
    "        \n",
    "print(len(wavFiles), 'performance recordings (in wav format)')"
   ]
  },
  {
   "cell_type": "code",
   "execution_count": null,
   "id": "79424f94",
   "metadata": {},
   "outputs": [],
   "source": [
    "for pr in wavFiles:\n",
    "    print('Processing', pr)\n",
    "    sr, audio = wavfile.read(os.path.join(kdcFolder, recordingsFolder, 'wav', pr))\n",
    "    time, frequency, confidence, activation = crepe.predict(audio, sr, viterbi=True)\n",
    "    pitchtrack = np.vstack([time, frequency, confidence]).transpose()\n",
    "    np.savetxt(pr[:-4] + '.f0.csv', pitchtrack, fmt=['%.3f', '%.3f', '%.6f'], delimiter=',',\n",
    "               header='time,frequency,confidence', comments='')\n",
    "    print(pr[:-4] + '.f0.csv saved')\n",
    "\n",
    "print('Done!')"
   ]
  },
  {
   "cell_type": "markdown",
   "id": "d05f911c",
   "metadata": {},
   "source": [
    "### Filtering `crepe` pitch tracks"
   ]
  },
  {
   "cell_type": "markdown",
   "id": "c65b8ede",
   "metadata": {},
   "source": [
    "Simple code for thresholding pitch tracks returned by the `crepe` algorithm above a certain confidence level."
   ]
  },
  {
   "cell_type": "code",
   "execution_count": null,
   "id": "e839d768",
   "metadata": {},
   "outputs": [],
   "source": [
    "threshold = 0.7"
   ]
  },
  {
   "cell_type": "code",
   "execution_count": null,
   "id": "3bf7a123",
   "metadata": {},
   "outputs": [],
   "source": [
    "allFiles = os.listdir(os.path.join(pitchtracksFolder, 'original-files'))\n",
    "\n",
    "pitchtracks = []\n",
    "\n",
    "for f in allFiles:\n",
    "    if f[-3:] == 'csv':\n",
    "        pitchtracks.append(f)\n",
    "        \n",
    "print(len(pitchtracks), 'pitchtrack files')"
   ]
  },
  {
   "cell_type": "code",
   "execution_count": null,
   "id": "04da9feb",
   "metadata": {},
   "outputs": [],
   "source": [
    "for pt in pitchtracks:\n",
    "    print('Processing', pt)\n",
    "    pitchtrack = np.genfromtxt(os.path.join(pitchtracksFolder, 'original-files', pt), delimiter=',', skip_header=1)\n",
    "    filtered = pitchtrack[pitchtrack[:,2] >= threshold]\n",
    "    np.savetxt(os.path.join(pitchtracksFolder, pt[:-4] + '_fil.csv'), filtered[:,0:2], delimiter=',')\n",
    "\n",
    "print('Done!')"
   ]
  },
  {
   "cell_type": "markdown",
   "id": "6026ec98",
   "metadata": {},
   "source": [
    "## Computing pitch histograms"
   ]
  },
  {
   "cell_type": "markdown",
   "id": "ae1fcc4a",
   "metadata": {},
   "source": [
    "The following cell should be run for computing pitch histograms both for individual recordings and for complete *dastgāh*s."
   ]
  },
  {
   "cell_type": "code",
   "execution_count": null,
   "id": "7f981aa0",
   "metadata": {},
   "outputs": [],
   "source": [
    "# List of available pitchtracks\n",
    "\n",
    "allFiles = os.listdir(os.path.join(pitchtracksFolder))\n",
    "\n",
    "pitchtracks = []\n",
    "\n",
    "for pt in allFiles:\n",
    "    if pt[-3:] == 'csv':\n",
    "        pitchtracks.append(pt)\n",
    "        \n",
    "print(len(pitchtracks), 'pitchtracks')"
   ]
  },
  {
   "cell_type": "markdown",
   "id": "fc4f154a",
   "metadata": {},
   "source": [
    "### Computing pitch histograms for individual recordings"
   ]
  },
  {
   "cell_type": "markdown",
   "id": "19ce152a",
   "metadata": {},
   "source": [
    "The following cell computes and plots pitch histograms for each of the available pitchtracks in KDC. The x axis of the plots will be delimited by the range established in the `pitchRanges` dictionary defined above per each *dastgāh*. The plots will be saved as png files in the folder defined in the `histogramsFolder` variable (it should be created before running the following cell)."
   ]
  },
  {
   "cell_type": "code",
   "execution_count": null,
   "id": "5b3d455f",
   "metadata": {},
   "outputs": [],
   "source": [
    "for pt in pitchtracks:\n",
    "    mbid = pt[:pt.index('.f0_')]\n",
    "    info = recordingsDic[mbid]\n",
    "    dastgah = info['dastgah']\n",
    "    gushe = info['gushe']\n",
    "    artist = info['initials']\n",
    "    inst = info['inst']\n",
    "    shahed = info['shahed']\n",
    "    lowCut = pitchRanges[dastgah][0]\n",
    "    highCut = pitchRanges[dastgah][1]\n",
    "    plotName = mbid + '-PH.png'\n",
    "    \n",
    "    print('Processing', pt[:pt.index('.f0_')])\n",
    "    this_title = '{} {} ({}, {})'.format(gushe, dastgah, inst, artist)\n",
    "    pitchTrack = np.genfromtxt(os.path.join(pitchtracksFolder, pt), delimiter=',')\n",
    "    centsTrack = pitch2cents(pitchTrack, shahed)\n",
    "    filteredTrack = centsTrack[np.logical_and(centsTrack >= lowCut, centsTrack <= highCut)]\n",
    "    pitch_obj = intonation.Pitch(np.arange(len(filteredTrack)), filteredTrack)\n",
    "    rec_obj = intonation.Recording(pitch_obj)\n",
    "    rec_obj.compute_hist()\n",
    "    rec_obj.histogram.plot(shahed=0, title=this_title,\n",
    "                           saveToFileName=os.path.join(histogramsFolder, plotName))\n",
    "print('Done!')"
   ]
  },
  {
   "cell_type": "markdown",
   "id": "366a23b9",
   "metadata": {},
   "source": [
    "#### Computing folded pitch histograms for individual recordings"
   ]
  },
  {
   "cell_type": "markdown",
   "id": "3d18f7cd",
   "metadata": {},
   "source": [
    "The following cell computes and plots pitch histograms for each of the available pitchtracks in KDC that are folded to one octave, having the *šāhed* as 0 cents. The plots will be saved as png files in the folder defined in the `histogramsFolder` variable (it should be created before running the following cell)."
   ]
  },
  {
   "cell_type": "code",
   "execution_count": null,
   "id": "abf7506b",
   "metadata": {},
   "outputs": [],
   "source": [
    "for pt in pitchtracks:\n",
    "    mbid = pt[:pt.index('.f0_')]\n",
    "    info = recordingsDic[mbid]\n",
    "    dastgah = info['dastgah']\n",
    "    gushe = info['gushe']\n",
    "    artist = info['initials']\n",
    "    inst = info['inst']\n",
    "    shahed = info['shahed']\n",
    "    lowCut = pitchRanges[dastgah][0]\n",
    "    highCut = pitchRanges[dastgah][1]\n",
    "    plotName = mbid + '-PHF.png'\n",
    "    \n",
    "    print('Processing', pt[:pt.index('.f0_')])\n",
    "    this_title = '{} {} ({}, {}) - Folded'.format(gushe, dastgah, inst, artist)\n",
    "    pitchTrack = np.genfromtxt(os.path.join(pitchtracksFolder, pt), delimiter=',')\n",
    "    centsTrack = pitch2cents(pitchTrack, shahed)\n",
    "    filteredTrack = centsTrack[np.logical_and(centsTrack >= lowCut, centsTrack <= highCut)]\n",
    "    pitch_obj = intonation.Pitch(np.arange(len(filteredTrack)), filteredTrack)\n",
    "    rec_obj = intonation.Recording(pitch_obj)\n",
    "    rec_obj.compute_hist(bins=highCut-lowCut, folded=True)\n",
    "    rec_obj.histogram.plot(title=this_title,\n",
    "                           saveToFileName=os.path.join(histogramsFolder, plotName))\n",
    "print('Done!')"
   ]
  },
  {
   "cell_type": "markdown",
   "id": "25d228eb",
   "metadata": {},
   "source": [
    "#### Computing aggregated pitch histograms per *dastgāh*"
   ]
  },
  {
   "cell_type": "markdown",
   "id": "5abc352f",
   "metadata": {},
   "source": [
    "The following cell computes aggregated pitchtracks for all the performance recordings of the same *dastgāh*. As in the previous case, the x axis of the plots will be delimited by the range established in the `pitchRanges` dictionary defined above, and the plots will be saved as png files in the folder defined in the `histogramsFolder` variable (it should be created before running the following cell)."
   ]
  },
  {
   "cell_type": "code",
   "execution_count": null,
   "id": "d8a341bd",
   "metadata": {},
   "outputs": [],
   "source": [
    "# Create aggregated pitchtracks per dastgāh\n",
    "\n",
    "aggregatedPitchTracks = {}\n",
    "\n",
    "for pt in pitchtracks:\n",
    "    mbid = pt[:pt.index('.f0_')]\n",
    "    print('Processing', mbid)\n",
    "    info = recordingsDic[mbid]\n",
    "    dastgah = info['dastgah']\n",
    "    shahed = info['shahed']\n",
    "    lowCut = pitchRanges[dastgah][0]\n",
    "    highCut = pitchRanges[dastgah][1] \n",
    "    \n",
    "    pitchTrack = np.genfromtxt(os.path.join(pitchtracksFolder, pt), delimiter=',')\n",
    "    centsTrack = pitch2cents(pitchTrack, shahed)\n",
    "    if dastgah not in aggregatedPitchTracks:\n",
    "        aggregatedPitchTracks[dastgah] = {'lowCut': pitchRanges[dastgah][0],\n",
    "                                      'highCut': pitchRanges[dastgah][1], 'apt': centsTrack}\n",
    "    else:\n",
    "        aggregatedPitchTracks[dastgah]['apt'] = np.append(aggregatedPitchTracks[dastgah]['apt'],\n",
    "                                                      centsTrack)\n",
    "\n",
    "print('Done!')"
   ]
  },
  {
   "cell_type": "code",
   "execution_count": null,
   "id": "594ad4ce",
   "metadata": {
    "scrolled": true
   },
   "outputs": [],
   "source": [
    "# Compute and plot pitch histograms per dastgāh\n",
    "\n",
    "for dastgah in aggregatedPitchTracks:\n",
    "    print('Processing', dastgah)\n",
    "    plotName = dastgah + '-PH.png'\n",
    "    apt = aggregatedPitchTracks[dastgah]['apt']\n",
    "    lowCut = aggregatedPitchTracks[dastgah]['lowCut']\n",
    "    highCut = aggregatedPitchTracks[dastgah]['highCut']\n",
    "    filteredTrack = apt[np.logical_and(apt >= lowCut, apt <= highCut)]\n",
    "    pitch_obj = intonation.Pitch(np.arange(len(filteredTrack)), filteredTrack)\n",
    "    rec_obj = intonation.Recording(pitch_obj)\n",
    "    rec_obj.compute_hist()\n",
    "    rec_obj.histogram.plot(title=dastgah, shahed=0,\n",
    "                           saveToFileName=os.path.join(histogramsFolder, plotName))\n",
    "\n",
    "print('Done!')"
   ]
  },
  {
   "cell_type": "markdown",
   "id": "c9a92ed0",
   "metadata": {},
   "source": [
    "#### Computing aggregated folded pitch histograms per *dastgāh*"
   ]
  },
  {
   "cell_type": "markdown",
   "id": "0eaf79da",
   "metadata": {},
   "source": [
    "The following cell computes aggregated pitchtracks for all the performance recordings of the same *dastgāh* folded to one octave, having the *šāhed* as 0 cents. As in the previous cases, the plots will be saved as png files in the folder defined in the `histogramsFolder` variable (it should be created before running the following cell).\n",
    "\n",
    "The following cell requires the `aggregatedPitchTracks` dictionary defined above."
   ]
  },
  {
   "cell_type": "code",
   "execution_count": null,
   "id": "e2322195",
   "metadata": {},
   "outputs": [],
   "source": [
    "# Compute and plot folded pitch histograms per dastgāh\n",
    "\n",
    "for dastgah in aggregatedPitchTracks:\n",
    "    print('Processing', dastgah)\n",
    "    plotName = dastgah + '_PHF.png'\n",
    "    apt = aggregatedPitchTracks[dastgah]['apt']\n",
    "    lowCut = aggregatedPitchTracks[dastgah]['lowCut']\n",
    "    highCut = aggregatedPitchTracks[dastgah]['highCut']\n",
    "    filteredTrack = apt[np.logical_and(apt >= lowCut, apt <= highCut)]\n",
    "    pitch_obj = intonation.Pitch(np.arange(len(filteredTrack)), filteredTrack)\n",
    "    rec_obj = intonation.Recording(pitch_obj)\n",
    "    rec_obj.compute_hist(folded=True)\n",
    "    rec_obj.histogram.plot(title=dastgah + ' - Folded',\n",
    "                           saveToFileName=os.path.join(histogramsFolder, plotName))\n",
    "\n",
    "print('Done!')"
   ]
  },
  {
   "cell_type": "markdown",
   "id": "08ccaf8b",
   "metadata": {},
   "source": [
    "## Vibrato"
   ]
  },
  {
   "cell_type": "markdown",
   "id": "a84af93c",
   "metadata": {},
   "source": [
    "The following cells runs the `Vibrato` algorithm available in `essentia` ([https://essentia.upf.edu/reference/std_Vibrato.html](https://essentia.upf.edu/reference/std_Vibrato.html)) for each of the available pitchtracks in KDC.\n",
    "\n",
    "Please read the de README file to some comments about how to have `essentia` running in Windows."
   ]
  },
  {
   "cell_type": "code",
   "execution_count": null,
   "id": "a6642947",
   "metadata": {},
   "outputs": [],
   "source": [
    "import essentia\n",
    "import essentia.standard as es\n",
    "import matplotlib.pyplot as plt"
   ]
  },
  {
   "cell_type": "code",
   "execution_count": null,
   "id": "1ce8e252",
   "metadata": {},
   "outputs": [],
   "source": [
    "vibratoFolder = '../vibrato'"
   ]
  },
  {
   "cell_type": "code",
   "execution_count": null,
   "id": "7b2eb92d",
   "metadata": {},
   "outputs": [],
   "source": [
    "samplerate = 44100\n",
    "hopsize = 512"
   ]
  },
  {
   "cell_type": "code",
   "execution_count": null,
   "id": "1389f2b0",
   "metadata": {},
   "outputs": [],
   "source": [
    "vib = es.Vibrato(sampleRate = samplerate/hopsize)"
   ]
  },
  {
   "cell_type": "code",
   "execution_count": null,
   "id": "f8eaf513",
   "metadata": {},
   "outputs": [],
   "source": [
    "# List of available pitchtracks\n",
    "\n",
    "allFiles = os.listdir(os.path.join(pitchtracksFolder))\n",
    "\n",
    "pitchtracks = []\n",
    "\n",
    "for pt in allFiles:\n",
    "    if pt[-3:] == 'csv':\n",
    "        pitchtracks.append(pt)\n",
    "        \n",
    "print(len(pitchtracks), 'pitchtracks')"
   ]
  },
  {
   "cell_type": "markdown",
   "id": "1c2bac42",
   "metadata": {},
   "source": [
    "A csv file will be generated for the analysed vibrato frequency and extent, as well as a plot that aligns pitchtrack, vibrato frequency and vibrato extent for each pitchtrack. These files will be saved in the folder defined in the `vibratoFolder` variable (it should be created before running the following cell)."
   ]
  },
  {
   "cell_type": "code",
   "execution_count": null,
   "id": "e626ea66",
   "metadata": {},
   "outputs": [],
   "source": [
    "vibratoData = 'MBID,Freq mean, Freq std, Extent mean, Extent std\\n'\n",
    "\n",
    "for pt in pitchtracks:\n",
    "    mbid = pt[:pt.index('.f0_')]\n",
    "    print('Processing', mbid)\n",
    "    info = recordingsDic[mbid]\n",
    "    dastgah = info['dastgah']\n",
    "    gushe = info['gushe']\n",
    "    artist = info['initials']\n",
    "    inst = info['inst']\n",
    "    shahed = info['shahed']\n",
    "    lowCut = pitchRanges[dastgah][0]\n",
    "    highCut = pitchRanges[dastgah][1]\n",
    "    plotName = mbid + '-V.png'\n",
    "    vibratoData += mbid + ','\n",
    "    \n",
    "#     info = dastgahDic[pt.split('_')[0]]\n",
    "#     dastgah = info['dastgah']\n",
    "#     shahed = info[pt[:pt.index('_P')]]['shahed']\n",
    "#     fn = pt[:pt.index('.f0_')]\n",
    "#     vibratoData += fn + ','\n",
    "\n",
    "    # Loading pitchtrack\n",
    "    pitchTrack = np.genfromtxt(os.path.join(pitchtracksFolder, pt),\n",
    "                               delimiter=',')\n",
    "    f0 = pitchTrack[:,1]\n",
    "    timeStamps = pitchTrack[:,0]\n",
    "\n",
    "    # Computing vibrato\n",
    "    vibF, vibE = vib(essentia.array(f0))\n",
    "    \n",
    "    # Add mean and std to the csv file\n",
    "    vibratoData += str(round(np.mean(vibF[vibF>0]),3)) + ',' + str(round(np.std(vibF[vibF>0]),3)) + ','\n",
    "    vibratoData += str(round(np.mean(vibE[vibE>0]),3)) + ',' + str(round(np.std(vibE[vibE>0]),3)) + '\\n'\n",
    "\n",
    "    # Saving the frequency and extent csv files\n",
    "    vibFreq = np.column_stack((timeStamps, vibF))\n",
    "    vibExtent = np.column_stack((timeStamps, vibE))\n",
    "\n",
    "    np.savetxt(os.path.join(vibratoFolder, mbid + '-VFreq.csv'),\n",
    "               vibFreq, delimiter=',')\n",
    "    np.savetxt(os.path.join(vibratoFolder, mbid + '-VExtent.csv'),\n",
    "               vibExtent, delimiter=',')\n",
    "\n",
    "    # Plotting and saving png files\n",
    "    plt.rcParams['figure.figsize'] = (15, 6)\n",
    "    plt.figure()\n",
    "    plt.subplot(311)\n",
    "    plt.axhline(shahed, color='0.8', markersize=0.5)\n",
    "    plt.plot(timeStamps, f0, '.k', markersize=0.5)\n",
    "    plt.ylim((cents2hz(pitchRanges[dastgah][0], shahed), cents2hz(pitchRanges[dastgah][1], shahed)))\n",
    "    plt.title('{} {} ({}, {}) - F0'.format(gushe, dastgah, inst, artist))\n",
    "    plt.subplot(312)\n",
    "    plt.plot(timeStamps, vibF)\n",
    "    plt.title('frequency')\n",
    "    plt.subplot(313)\n",
    "    plt.plot(timeStamps, vibE)\n",
    "    plt.title('extent')\n",
    "    plt.tight_layout()\n",
    "    plt.savefig(os.path.join(vibratoFolder, plotName))\n",
    "    plt.show()\n",
    "    \n",
    "with open(os.path.join(vibratoFolder, 'vibrato-data.csv'), 'w') as f:\n",
    "    f.write(vibratoData)\n",
    "\n",
    "print('Done!')"
   ]
  },
  {
   "cell_type": "code",
   "execution_count": null,
   "id": "c17a3e0c",
   "metadata": {},
   "outputs": [],
   "source": []
  }
 ],
 "metadata": {
  "kernelspec": {
   "display_name": "Python 3 (ipykernel)",
   "language": "python",
   "name": "python3"
  },
  "language_info": {
   "codemirror_mode": {
    "name": "ipython",
    "version": 3
   },
   "file_extension": ".py",
   "mimetype": "text/x-python",
   "name": "python",
   "nbconvert_exporter": "python",
   "pygments_lexer": "ipython3",
   "version": "3.10.4"
  }
 },
 "nbformat": 4,
 "nbformat_minor": 5
}
